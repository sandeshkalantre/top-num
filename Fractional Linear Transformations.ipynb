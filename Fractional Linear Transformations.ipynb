{
 "cells": [
  {
   "cell_type": "markdown",
   "metadata": {},
   "source": [
    "# Fractional Linear Transformations\n",
    "This notebook will be used to generated figures to understand the effect of fractional linear transformations on the Farey diagram."
   ]
  },
  {
   "cell_type": "code",
   "execution_count": 1,
   "metadata": {},
   "outputs": [],
   "source": [
    "import numpy as np\n",
    "import matplotlib.patches as mpatches\n",
    "import matplotlib.pyplot as plt"
   ]
  },
  {
   "cell_type": "markdown",
   "metadata": {},
   "source": [
    "# Infinite strip"
   ]
  },
  {
   "cell_type": "code",
   "execution_count": 31,
   "metadata": {},
   "outputs": [],
   "source": [
    "x_low = np.arange(-5,3)"
   ]
  },
  {
   "cell_type": "code",
   "execution_count": 66,
   "metadata": {},
   "outputs": [
    {
     "data": {
      "image/png": "[encoded data removed]",
      "text/plain": [
       "<Figure size 432x288 with 1 Axes>"
      ]
     },
     "metadata": {
      "needs_background": "light"
     },
     "output_type": "display_data"
    }
   ],
   "source": [
    "fig = plt.figure()\n",
    "ax = plt.gca()\n",
    "# to remove frame box and axes\n",
    "ax.axis(\"off\")\n",
    "ax.set_aspect(4)\n",
    "\n",
    "num1,den1 = -8,13\n",
    "num2,den2 = -5,8\n",
    "for x in x_low:\n",
    "    plt.scatter(x,0,color='b',alpha=0.7)\n",
    "    plt.scatter(x+0.5,0.5,color='b',alpha=0.7)\n",
    "    plt.plot([x,x+0.5],[0,0.5],color='b')\n",
    "    plt.plot([x+0.5,x+1],[0.5,0],color='b')\n",
    "   \n",
    "    label = r\"$\\frac{\" + str(num1) + \"}{\" + str(den1) + \"}$\"\n",
    "    ax.text(x,-0.15,label,\\\n",
    "                    horizontalalignment='center',\\\n",
    "                    verticalalignment='center',fontsize=20)\n",
    "    label2 = r\"$\\frac{\" + str(num2) + \"}{\" + str(den2) + \"}$\"\n",
    "    ax.text(x+0.5,0.5+0.15,label2,\\\n",
    "                    horizontalalignment='center',\\\n",
    "                    verticalalignment='center',fontsize=20)\n",
    "    \n",
    "    num1,den1 = (2*num1 + den1),(num1 + den1)\n",
    "    if num1 < 0 and den1 < 0:\n",
    "        num1,den1 = -num1,-den1\n",
    "    num2,den2 = (2*num2 + den2),(num2 + den2)\n",
    "    if num2 < 0 and den2 < 0:\n",
    "        num2,den2 = -num2,-den2\n",
    "\n",
    "plt.plot([x_low.min(),x_low.max()],[0,0],color='r',zorder=-1)\n",
    "plt.plot([x_low.min()+0.5,x_low.max()+0.5],[0.5,0.5],color='r',zorder=-1)\n",
    "\n",
    "plt.tight_layout()\n",
    "#plt.ylim([-0.5,1.0])\n",
    "plt.savefig(\"./saved_figs/farey_translation_strip.svg\")"
   ]
  },
  {
   "cell_type": "code",
   "execution_count": null,
   "metadata": {},
   "outputs": [],
   "source": []
  }
 ],
 "metadata": {
  "kernelspec": {
   "display_name": "Python 3",
   "language": "python",
   "name": "python3"
  },
  "language_info": {
   "codemirror_mode": {
    "name": "ipython",
    "version": 3
   },
   "file_extension": ".py",
   "mimetype": "text/x-python",
   "name": "python",
   "nbconvert_exporter": "python",
   "pygments_lexer": "ipython3",
   "version": "3.6.9"
  }
 },
 "nbformat": 4,
 "nbformat_minor": 2
}
