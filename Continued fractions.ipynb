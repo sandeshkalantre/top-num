{
 "cells": [
  {
   "cell_type": "markdown",
   "metadata": {},
   "source": [
    "# Continued fractions"
   ]
  },
  {
   "cell_type": "code",
   "execution_count": 1,
   "metadata": {},
   "outputs": [],
   "source": [
    "import numpy as np\n",
    "import matplotlib.patches as mpatches\n",
    "import matplotlib.pyplot as plt"
   ]
  },
  {
   "cell_type": "markdown",
   "metadata": {},
   "source": [
    "## Calculate continued fraction rep\n",
    "$(a_0,a_1,a_2,...)$\n",
    "\n",
    "$$\\frac{p}{q} = a_0 + \\cfrac{1}{a_1 + \\cfrac{1}{a_2 \\cdots +\\cfrac{1}{a_n}}}$$"
   ]
  },
  {
   "cell_type": "code",
   "execution_count": 2,
   "metadata": {},
   "outputs": [],
   "source": [
    "def calc_cfrac(p,q):\n",
    "    '''\n",
    "    continued fraction representation of p/q\n",
    "    '''\n",
    "    quo_list = []\n",
    "    rem = 1\n",
    "    while rem != 0:\n",
    "        (quo,rem) = divmod(p,q)\n",
    "        quo_list.append(quo)\n",
    "        p = q\n",
    "        q = rem\n",
    "    return quo_list "
   ]
  },
  {
   "cell_type": "code",
   "execution_count": 3,
   "metadata": {},
   "outputs": [
    {
     "name": "stdout",
     "output_type": "stream",
     "text": [
      "[2, 1, 2, 2]\n"
     ]
    }
   ],
   "source": [
    "cfrac = calc_cfrac(19,7)\n",
    "print(cfrac)"
   ]
  },
  {
   "cell_type": "code",
   "execution_count": 4,
   "metadata": {},
   "outputs": [],
   "source": [
    "def expand_cfrac(a_list):\n",
    "    res = a_list[-1]\n",
    "    for a in a_list[:-1][::-1]:\n",
    "        res = a + 1/res\n",
    "    return res"
   ]
  },
  {
   "cell_type": "code",
   "execution_count": 5,
   "metadata": {},
   "outputs": [
    {
     "data": {
      "text/plain": [
       "2.7142857142857144"
      ]
     },
     "execution_count": 5,
     "metadata": {},
     "output_type": "execute_result"
    }
   ],
   "source": [
    "cfrac = calc_cfrac(19,7)\n",
    "expand_cfrac(cfrac)"
   ]
  },
  {
   "cell_type": "code",
   "execution_count": 6,
   "metadata": {},
   "outputs": [
    {
     "data": {
      "text/plain": [
       "2.7142857142857144"
      ]
     },
     "execution_count": 6,
     "metadata": {},
     "output_type": "execute_result"
    }
   ],
   "source": [
    "19/7"
   ]
  },
  {
   "cell_type": "markdown",
   "metadata": {},
   "source": [
    "## GCD"
   ]
  },
  {
   "cell_type": "code",
   "execution_count": 7,
   "metadata": {},
   "outputs": [],
   "source": [
    "\n",
    "def gcd(a,b):\n",
    "    if b > a:\n",
    "        a,b = b,a\n",
    "    if b == 0:\n",
    "        return a\n",
    "    else:\n",
    "        return gcd(b,a%b)"
   ]
  },
  {
   "cell_type": "code",
   "execution_count": 8,
   "metadata": {},
   "outputs": [
    {
     "data": {
      "text/plain": [
       "5"
      ]
     },
     "execution_count": 8,
     "metadata": {},
     "output_type": "execute_result"
    }
   ],
   "source": [
    "gcd(10,25)"
   ]
  },
  {
   "cell_type": "markdown",
   "metadata": {},
   "source": [
    "## Contruct triangle strip"
   ]
  },
  {
   "cell_type": "code",
   "execution_count": 86,
   "metadata": {},
   "outputs": [],
   "source": [
    "# This code fails to give the right calculations if 1 in continued fraction representation"
   ]
  },
  {
   "cell_type": "code",
   "execution_count": 95,
   "metadata": {},
   "outputs": [
    {
     "name": "stdout",
     "output_type": "stream",
     "text": [
      "(7, 16)\n"
     ]
    },
    {
     "data": {
      "image/png": "[encoded data removed]",
      "text/plain": [
       "<Figure size 576x216 with 1 Axes>"
      ]
     },
     "metadata": {
      "needs_background": "light"
     },
     "output_type": "display_data"
    }
   ],
   "source": [
    "fig = plt.figure(figsize=(8,3))\n",
    "ax = plt.gca()\n",
    "# to remove frame box and axes\n",
    "ax.axis(\"off\")\n",
    "\n",
    "a_list = [0,2,3,2]\n",
    "c_list = [(1,0)]\n",
    "c_pivot = (a_list[0],1)\n",
    "for i,a in enumerate(a_list[1:]):\n",
    "\n",
    "    subdiv_x = np.linspace(1/a,1,a-1,endpoint=False)\n",
    "    subdiv_y = 0\n",
    "    if i % 2 == 0:\n",
    "        x0 = i//2\n",
    "        y0 = 0\n",
    "        x1,y1 = x0+1,y0\n",
    "        x2,y2 = x0 + 0.5,-1\n",
    "        \n",
    "        label = r\"$\\frac{{\" + str(c_pivot[0]) + r\"}}{{\" + str(c_pivot[1]) + r\"}}$\" \n",
    "        ax.text(x2,y2-0.15,label,horizontalalignment='center',verticalalignment='center',fontsize=20)\n",
    "        \n",
    "        label = r\"$\\frac{{\" + str(c_list[-1][0]) + r\"}}{{\" + str(c_list[-1][1]) + r\"}}$\" \n",
    "        ax.text(x0,y0+0.15,label,horizontalalignment='center',verticalalignment='center',fontsize=20)\n",
    "        for j,x in enumerate(subdiv_x):\n",
    "            plt.plot([x2,x+x0],[y2,subdiv_y],color='r')\n",
    "            \n",
    "            c1 = c_pivot\n",
    "            c2 = c_list[-1]\n",
    "            next_c = (c1[0] + c2[0],c1[1]+c2[1]) \n",
    "            c_list.append(next_c)\n",
    "            if j == a - 2:\n",
    "                c_pivot_old = c_pivot\n",
    "                c_pivot = (c_list[-1][0] + c_pivot[0],c_list[-1][1] + c_pivot[1])  \n",
    "                c_list = [c_pivot_old]\n",
    "            label = r\"$\\frac{{\" + str(next_c[0]) + r\"}}{{\" + str(next_c[1]) + r\"}}$\" \n",
    "            ax.text(x+x0,subdiv_y+0.15,label,horizontalalignment='center',verticalalignment='center',fontsize=20)\n",
    "        if i == len(a_list[1:])-1:\n",
    "            # final print c_pivot \n",
    "            print(c_pivot)\n",
    "            label = r\"$\\frac{{\" + str(c_pivot[0]) + r\"}}{{\" + str(c_pivot[1]) + r\"}}$\" \n",
    "            ax.text(x1,y1+0.15,label,horizontalalignment='center',verticalalignment='center',fontsize=20)\n",
    "    else:\n",
    "        x0 = 1 + i//2\n",
    "        y0 = 0\n",
    "        subdiv_y = -1\n",
    "        x1,y1 = x0-0.5,-1\n",
    "        x2,y2 = x0 + 0.5,-1\n",
    "        label = r\"$\\frac{{\" + str(c_pivot[0]) + r\"}}{{\" + str(c_pivot[1]) + r\"}}$\" \n",
    "        ax.text(x0,y0+0.15,label,horizontalalignment='center',verticalalignment='center',fontsize=20)\n",
    "        \n",
    "        label = r\"$\\frac{{\" + str(c_list[-1][0]) + r\"}}{{\" + str(c_list[-1][1]) + r\"}}$\" \n",
    "        ax.text(x1,y1-0.15,label,horizontalalignment='center',verticalalignment='center',fontsize=20)\n",
    "        for j,x in enumerate(subdiv_x):\n",
    "            plt.plot([x0,x+x1],[y0,subdiv_y],color='r') \n",
    "            \n",
    "            c1 = c_pivot\n",
    "            c2 = c_list[-1]\n",
    "            next_c = (c1[0] + c2[0],c1[1]+c2[1]) \n",
    "            c_list.append(next_c)\n",
    "            if j == a - 2:\n",
    "                c_pivot_old = c_pivot\n",
    "                c_pivot = (c_list[-1][0] + c_pivot[0],c_list[-1][1] + c_pivot[1])  \n",
    "                c_list = [c_pivot_old]\n",
    "            label = r\"$\\frac{{\" + str(next_c[0]) + r\"}}{{\" + str(next_c[1]) + r\"}}$\" \n",
    "            ax.text(x+x1,subdiv_y-0.15,label,horizontalalignment='center',verticalalignment='center',fontsize=20)\n",
    "    \n",
    "        if i == len(a_list[1:])-1:\n",
    "            # final print c_pivot \n",
    "            print(c_pivot)\n",
    "            label = r\"$\\frac{{\" + str(c_pivot[0]) + r\"}}{{\" + str(c_pivot[1]) + r\"}}$\" \n",
    "            ax.text(x2,y2+0.15,label,horizontalalignment='center',verticalalignment='center',fontsize=20)\n",
    "    plt.plot([x0,x1],[y0,y1],color='b')\n",
    "    plt.plot([x1,x2],[y1,y2],color='b')\n",
    "    plt.plot([x0,x2],[y0,y2],color='b')\n",
    "    \n",
    "plt.ylim([-1.1,0.1])\n",
    "plt.xlim([-0.1,len(a_list[1:])-1])\n",
    "plt.tight_layout()\n",
    "plt.savefig(\"./saved_figs/farey_tri_strip.svg\")"
   ]
  },
  {
   "cell_type": "code",
   "execution_count": null,
   "metadata": {},
   "outputs": [],
   "source": []
  }
 ],
 "metadata": {
  "kernelspec": {
   "display_name": "Python 3",
   "language": "python",
   "name": "python3"
  },
  "language_info": {
   "codemirror_mode": {
    "name": "ipython",
    "version": 3
   },
   "file_extension": ".py",
   "mimetype": "text/x-python",
   "name": "python",
   "nbconvert_exporter": "python",
   "pygments_lexer": "ipython3",
   "version": "3.6.9"
  }
 },
 "nbformat": 4,
 "nbformat_minor": 2
}
