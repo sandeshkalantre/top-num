{
 "cells": [
  {
   "cell_type": "markdown",
   "metadata": {},
   "source": [
    "# Continued fractions"
   ]
  },
  {
   "cell_type": "code",
   "execution_count": 66,
   "metadata": {},
   "outputs": [],
   "source": [
    "import numpy as np\n",
    "import matplotlib.patches as mpatches\n",
    "import matplotlib.pyplot as plt"
   ]
  },
  {
   "cell_type": "markdown",
   "metadata": {},
   "source": [
    "## Calculate continued fraction rep\n",
    "$(a_0,a_1,a_2,...)$\n",
    "\n",
    "$$\\frac{p}{q} = a_0 + \\cfrac{1}{a_1 + \\cfrac{1}{a_2 \\cdots +\\cfrac{1}{a_n}}}$$"
   ]
  },
  {
   "cell_type": "code",
   "execution_count": 20,
   "metadata": {},
   "outputs": [],
   "source": [
    "def calc_cfrac(p,q):\n",
    "    '''\n",
    "    continued fraction representation of p/q\n",
    "    '''\n",
    "    quo_list = []\n",
    "    rem = 1\n",
    "    while rem != 0:\n",
    "        (quo,rem) = divmod(p,q)\n",
    "        quo_list.append(quo)\n",
    "        p = q\n",
    "        q = rem\n",
    "    return quo_list "
   ]
  },
  {
   "cell_type": "code",
   "execution_count": 64,
   "metadata": {},
   "outputs": [
    {
     "name": "stdout",
     "output_type": "stream",
     "text": [
      "[2, 1, 2, 2]\n"
     ]
    }
   ],
   "source": [
    "cfrac = calc_cfrac(19,7)\n",
    "print(cfrac)"
   ]
  },
  {
   "cell_type": "code",
   "execution_count": 62,
   "metadata": {},
   "outputs": [],
   "source": [
    "def expand_cfrac(a_list):\n",
    "    res = a_list[-1]\n",
    "    for a in a_list[:-1][::-1]:\n",
    "        res = a + 1/res\n",
    "    return res"
   ]
  },
  {
   "cell_type": "code",
   "execution_count": 63,
   "metadata": {},
   "outputs": [
    {
     "data": {
      "text/plain": [
       "2.7142857142857144"
      ]
     },
     "execution_count": 63,
     "metadata": {},
     "output_type": "execute_result"
    }
   ],
   "source": [
    "cfrac = calc_cfrac(19,7)\n",
    "expand_cfrac(cfrac)"
   ]
  },
  {
   "cell_type": "code",
   "execution_count": 51,
   "metadata": {},
   "outputs": [
    {
     "data": {
      "text/plain": [
       "2.7142857142857144"
      ]
     },
     "execution_count": 51,
     "metadata": {},
     "output_type": "execute_result"
    }
   ],
   "source": [
    "19/7"
   ]
  },
  {
   "cell_type": "markdown",
   "metadata": {},
   "source": [
    "## GCD"
   ]
  },
  {
   "cell_type": "code",
   "execution_count": 53,
   "metadata": {},
   "outputs": [],
   "source": [
    "\n",
    "def gcd(a,b):\n",
    "    if b > a:\n",
    "        a,b = b,a\n",
    "    if b == 0:\n",
    "        return a\n",
    "    else:\n",
    "        return gcd(b,a%b)"
   ]
  },
  {
   "cell_type": "code",
   "execution_count": 60,
   "metadata": {},
   "outputs": [
    {
     "data": {
      "text/plain": [
       "5"
      ]
     },
     "execution_count": 60,
     "metadata": {},
     "output_type": "execute_result"
    }
   ],
   "source": [
    "gcd(10,25)"
   ]
  },
  {
   "cell_type": "markdown",
   "metadata": {},
   "source": [
    "## Contruct triangle strip"
   ]
  },
  {
   "cell_type": "code",
   "execution_count": 93,
   "metadata": {},
   "outputs": [
    {
     "name": "stdout",
     "output_type": "stream",
     "text": [
      "[0.  0.5 1. ]\n",
      "[0.         0.33333333 0.66666667 1.        ]\n",
      "[0.  0.5 1. ]\n"
     ]
    },
    {
     "data": {
      "image/png": "[encoded data removed]",
      "text/plain": [
       "<Figure size 576x216 with 1 Axes>"
      ]
     },
     "metadata": {
      "needs_background": "light"
     },
     "output_type": "display_data"
    }
   ],
   "source": [
    "fig = plt.figure(figsize=(8,3))\n",
    "ax = plt.gca()\n",
    "# to remove frame box and axes\n",
    "ax.axis(\"off\")\n",
    "\n",
    "a_list = [0,2,3,2]\n",
    "for i,a in enumerate(a_list[1:]):\n",
    "    subdiv_x = np.linspace(0,1,a+1)\n",
    "    print(subdiv_x)\n",
    "    subdiv_y = 0\n",
    "    if i % 2 == 0:\n",
    "        x0 = i//2\n",
    "        y0 = 0\n",
    "        x1,y1 = x0+1,y0\n",
    "        x2,y2 = x0 + 0.5,-1\n",
    "        for x in subdiv_x:\n",
    "            plt.plot([x2,x+x0],[y2,subdiv_y],color='r')\n",
    "    else:\n",
    "        x0 = 1 + i//2\n",
    "        y0 = 0\n",
    "        subdiv_y = -1\n",
    "        x1,y1 = x0-0.5,-1\n",
    "        x2,y2 = x0 + 0.5,-1\n",
    "        for x in subdiv_x:\n",
    "            plt.plot([x0,x+x1],[y0,subdiv_y],color='r') \n",
    "    plt.plot([x0,x1],[y0,y1],color='b')\n",
    "    plt.plot([x1,x2],[y1,y2],color='b')\n",
    "    plt.plot([x0,x2],[y0,y2],color='b')\n",
    "    \n",
    "    \n",
    "    \n"
   ]
  },
  {
   "cell_type": "code",
   "execution_count": null,
   "metadata": {},
   "outputs": [],
   "source": []
  }
 ],
 "metadata": {
  "kernelspec": {
   "display_name": "Python 3",
   "language": "python",
   "name": "python3"
  },
  "language_info": {
   "codemirror_mode": {
    "name": "ipython",
    "version": 3
   },
   "file_extension": ".py",
   "mimetype": "text/x-python",
   "name": "python",
   "nbconvert_exporter": "python",
   "pygments_lexer": "ipython3",
   "version": "3.6.9"
  }
 },
 "nbformat": 4,
 "nbformat_minor": 2
}
